{
  "nbformat": 4,
  "nbformat_minor": 0,
  "metadata": {
    "colab": {
      "provenance": [],
      "authorship_tag": "ABX9TyPwGCdlAmsJdqExXpN956Bd",
      "include_colab_link": true
    },
    "kernelspec": {
      "name": "python3",
      "display_name": "Python 3"
    },
    "language_info": {
      "name": "python"
    }
  },
  "cells": [
    {
      "cell_type": "markdown",
      "metadata": {
        "id": "view-in-github",
        "colab_type": "text"
      },
      "source": [
        "<a href=\"https://colab.research.google.com/github/MD03/RLT/blob/main/RLT_DP_PE_and_PI.ipynb\" target=\"_parent\"><img src=\"https://colab.research.google.com/assets/colab-badge.svg\" alt=\"Open In Colab\"/></a>"
      ]
    },
    {
      "cell_type": "code",
      "execution_count": null,
      "metadata": {
        "id": "TehNoJON2GPk"
      },
      "outputs": [],
      "source": [
        "#DP- PE and PI\n",
        "import numpy as np\n",
        "import matplotlib.pyplot as plt\n",
        "\n",
        "class MDP:\n",
        "    def __init__(self, num_states, num_actions, transition_probs, rewards, gamma=0.9):\n",
        "        self.num_states = num_states\n",
        "        self.num_actions = num_actions\n",
        "        self.transition_probs = transition_probs\n",
        "        self.rewards = rewards\n",
        "        self.gamma = gamma\n",
        "\n",
        "    def policy_evaluation(self, policy, tol=1e-6):\n",
        "        V = np.zeros(self.num_states)\n",
        "        delta_values = []\n",
        "        while True:\n",
        "            delta = 0\n",
        "            for s in range(self.num_states):\n",
        "                v = V[s]\n",
        "                action = policy[s]\n",
        "                V[s] = sum(self.transition_probs[s, action, s_prime] *\n",
        "                           (self.rewards[s, action] + self.gamma * V[s_prime])\n",
        "                           for s_prime in range(self.num_states))\n",
        "                delta = max(delta, abs(v - V[s]))\n",
        "            delta_values.append(delta)\n",
        "            if delta < tol:\n",
        "                break\n",
        "        return V, delta_values\n",
        "\n",
        "    def policy_iteration(self):\n",
        "        policy = np.zeros(self.num_states, dtype=int)\n",
        "        while True:\n",
        "            V, _ = self.policy_evaluation(policy)\n",
        "            policy_stable = True\n",
        "            for s in range(self.num_states):\n",
        "                old_action = policy[s]\n",
        "                policy[s] = np.argmax(self._bellman_operator(s, V))\n",
        "                if old_action != policy[s]:\n",
        "                    policy_stable = False\n",
        "            if policy_stable:\n",
        "                break\n",
        "        return policy\n",
        "\n",
        "    def _bellman_operator(self, state, V):\n",
        "        Q = np.zeros(self.num_actions)\n",
        "        for a in range(self.num_actions):\n",
        "            for s_prime in range(self.num_states):\n",
        "                Q[a] += self.transition_probs[state, a, s_prime] * (self.rewards[state, a] + self.gamma * V[s_prime])\n",
        "        return Q\n",
        "\n",
        "num_states = 3\n",
        "num_actions = 2\n",
        "transition_probs = np.array([[[0.5, 0.5, 0.0], [1.0, 0.0, 0.0]], [[0.0, 0.0, 1.0], [0.0, 0.0, 1.0]], [[0.0, 1.0, 0.0], [0.5, 0.5, 0.0]]])\n",
        "rewards = np.array([[1.0, 2.0], [0.0, 0.0], [5.0, -1.0]])\n",
        "mdp = MDP(num_states, num_actions, transition_probs, rewards)\n",
        "policy = mdp.policy_iteration()\n",
        "\n",
        "V, delta_values = mdp.policy_evaluation(policy)\n",
        "plt.plot(delta_values)\n",
        "plt.xlabel('Iterations')\n",
        "plt.ylabel('Delta (Convergence)')\n",
        "plt.title('Convergence of Value Function during Policy Evaluation')\n",
        "plt.show()"
      ]
    }
  ]
}