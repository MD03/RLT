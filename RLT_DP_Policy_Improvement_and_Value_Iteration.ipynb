{
  "nbformat": 4,
  "nbformat_minor": 0,
  "metadata": {
    "colab": {
      "provenance": [],
      "authorship_tag": "ABX9TyNrjNMwdG4bshpp+a0ea0sS",
      "include_colab_link": true
    },
    "kernelspec": {
      "name": "python3",
      "display_name": "Python 3"
    },
    "language_info": {
      "name": "python"
    }
  },
  "cells": [
    {
      "cell_type": "markdown",
      "metadata": {
        "id": "view-in-github",
        "colab_type": "text"
      },
      "source": [
        "<a href=\"https://colab.research.google.com/github/MD03/RLT/blob/main/RLT_DP_Policy_Improvement_and_Value_Iteration.ipynb\" target=\"_parent\"><img src=\"https://colab.research.google.com/assets/colab-badge.svg\" alt=\"Open In Colab\"/></a>"
      ]
    },
    {
      "cell_type": "code",
      "execution_count": null,
      "metadata": {
        "id": "1sDCgBLi2O-U"
      },
      "outputs": [],
      "source": [
        "#DP- Policy Improvement and Value Iteration\n",
        "import numpy as np\n",
        "\n",
        "class MDP:\n",
        "    def __init__(self, num_states, num_actions, transition_probs, rewards, gamma=0.9):\n",
        "        self.num_states = num_states\n",
        "        self.num_actions = num_actions\n",
        "        self.transition_probs = transition_probs  # shape: (num_states, num_actions, num_states)\n",
        "        self.rewards = rewards  # shape: (num_states, num_actions)\n",
        "        self.gamma = gamma\n",
        "\n",
        "    def policy_evaluation(self, policy, tol=1e-6):\n",
        "        V = np.zeros(self.num_states)\n",
        "        while True:\n",
        "            delta = 0\n",
        "            for s in range(self.num_states):\n",
        "                v = V[s]\n",
        "                action = policy[s]\n",
        "                V[s] = sum(self.transition_probs[s, action, s_prime] *\n",
        "                           (self.rewards[s, action] + self.gamma * V[s_prime])\n",
        "                           for s_prime in range(self.num_states))\n",
        "                delta = max(delta, abs(v - V[s]))\n",
        "            if delta < tol:\n",
        "                break\n",
        "        return V\n",
        "\n",
        "    def policy_improvement(self, V):\n",
        "        policy = np.zeros(self.num_states, dtype=int)\n",
        "        for s in range(self.num_states):\n",
        "            policy[s] = np.argmax(self._bellman_operator(s, V))\n",
        "        return policy\n",
        "\n",
        "    def value_iteration(self, tol=1e-6):\n",
        "        V = np.zeros(self.num_states)  # Initialize value function\n",
        "        while True:\n",
        "            delta = 0\n",
        "            for s in range(self.num_states):\n",
        "                v = V[s]\n",
        "                V[s] = max(self._bellman_operator(s, V))\n",
        "                delta = max(delta, abs(v - V[s]))\n",
        "            if delta < tol:\n",
        "                break\n",
        "        policy = self.policy_improvement(V)\n",
        "        return V, policy\n",
        "\n",
        "    def _bellman_operator(self, state, V):\n",
        "        Q = np.zeros(self.num_actions)\n",
        "        for a in range(self.num_actions):\n",
        "            for s_prime in range(self.num_states):\n",
        "                Q[a] += self.transition_probs[state, a, s_prime] * (self.rewards[state, a] + self.gamma * V[s_prime])\n",
        "        return Q\n",
        "\n",
        "# Example usage\n",
        "num_states = 3\n",
        "num_actions = 2\n",
        "transition_probs = np.array([[[0.5, 0.5, 0.0], [1.0, 0.0, 0.0]],\n",
        "                             [[0.0, 0.0, 1.0], [0.0, 0.0, 1.0]],\n",
        "                             [[0.0, 1.0, 0.0], [0.5, 0.5, 0.0]]])\n",
        "rewards = np.array([[1.0, 2.0], [0.0, 0.0], [5.0, -1.0]])\n",
        "\n",
        "mdp = MDP(num_states, num_actions, transition_probs, rewards)\n",
        "V, policy = mdp.value_iteration()\n",
        "print(\"Optimal value function:\", V)\n",
        "print(\"Optimal policy:\", policy)"
      ]
    }
  ]
}