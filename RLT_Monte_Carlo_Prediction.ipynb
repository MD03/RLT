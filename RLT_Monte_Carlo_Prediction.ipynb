{
  "nbformat": 4,
  "nbformat_minor": 0,
  "metadata": {
    "colab": {
      "provenance": [],
      "authorship_tag": "ABX9TyP4do0tNdiZwoFWE+H0uvD+",
      "include_colab_link": true
    },
    "kernelspec": {
      "name": "python3",
      "display_name": "Python 3"
    },
    "language_info": {
      "name": "python"
    }
  },
  "cells": [
    {
      "cell_type": "markdown",
      "metadata": {
        "id": "view-in-github",
        "colab_type": "text"
      },
      "source": [
        "<a href=\"https://colab.research.google.com/github/MD03/RLT/blob/main/RLT_Monte_Carlo_Prediction.ipynb\" target=\"_parent\"><img src=\"https://colab.research.google.com/assets/colab-badge.svg\" alt=\"Open In Colab\"/></a>"
      ]
    },
    {
      "cell_type": "code",
      "execution_count": null,
      "metadata": {
        "id": "w1UdKSGB3DgM"
      },
      "outputs": [],
      "source": [
        "#Monte Carlo Prediction\n",
        "import numpy as np\n",
        "\n",
        "class MonteCarloPrediction:\n",
        "    def __init__(self, num_states, num_actions, gamma=0.9):\n",
        "        self.num_states = num_states\n",
        "        self.num_actions = num_actions\n",
        "        self.gamma = gamma\n",
        "        self.rewards = np.zeros((num_states, num_actions))\n",
        "        self.returns = np.zeros(num_states)\n",
        "        self.visits = np.zeros((num_states, num_actions), dtype=int)\n",
        "\n",
        "    def update(self, episode):\n",
        "        state, action, reward = episode\n",
        "        self.visits[state, action] += 1\n",
        "        self.rewards[state, action] += reward\n",
        "        self.returns[state] += reward\n",
        "\n",
        "    def evaluate(self):\n",
        "        return (self.returns / np.maximum(np.sum(self.visits, axis=1), 1)).astype(int)\n",
        "\n",
        "# Example usage\n",
        "num_states = 3\n",
        "num_actions = 2\n",
        "mc_prediction = MonteCarloPrediction(num_states, num_actions)\n",
        "\n",
        "# Simulate episodes and update\n",
        "episodes = [(0, 0, 1), (1, 1, 0), (2, 0, 2)]  # Corrected format for episodes\n",
        "for episode in episodes:\n",
        "    mc_prediction.update(episode)\n",
        "# Evaluate and print value function\n",
        "value_function = mc_prediction.evaluate()\n",
        "print(\"Estimated Value Function:\", value_function)"
      ]
    }
  ]
}