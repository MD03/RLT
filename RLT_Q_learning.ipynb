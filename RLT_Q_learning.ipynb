{
  "nbformat": 4,
  "nbformat_minor": 0,
  "metadata": {
    "colab": {
      "provenance": [],
      "authorship_tag": "ABX9TyMPrZsZ9ySKaVgiwI43algN",
      "include_colab_link": true
    },
    "kernelspec": {
      "name": "python3",
      "display_name": "Python 3"
    },
    "language_info": {
      "name": "python"
    }
  },
  "cells": [
    {
      "cell_type": "markdown",
      "metadata": {
        "id": "view-in-github",
        "colab_type": "text"
      },
      "source": [
        "<a href=\"https://colab.research.google.com/github/MD03/RLT/blob/main/RLT_Q_learning.ipynb\" target=\"_parent\"><img src=\"https://colab.research.google.com/assets/colab-badge.svg\" alt=\"Open In Colab\"/></a>"
      ]
    },
    {
      "cell_type": "code",
      "execution_count": 1,
      "metadata": {
        "colab": {
          "base_uri": "https://localhost:8080/"
        },
        "id": "AiKSzjK9FO27",
        "outputId": "24d60a05-7a0e-4286-da83-776164bd6ebb"
      },
      "outputs": [
        {
          "output_type": "stream",
          "name": "stdout",
          "text": [
            "Q-values after Q-Learning:\n",
            "[[21.  18.7]\n",
            " [23.7 23.7]\n",
            " [26.3 18.9]]\n"
          ]
        }
      ],
      "source": [
        "import numpy as np\n",
        "\n",
        "class Environment:\n",
        "    def __init__(self):\n",
        "        self.num_states = 3\n",
        "        self.num_actions = 2\n",
        "        self.transition_probs = np.array([[[0.5, 0.5, 0.0], [1.0, 0.0, 0.0]],\n",
        "                                          [[0.0, 0.0, 1.0], [0.0, 0.0, 1.0]],\n",
        "                                          [[0.0, 1.0, 0.0], [0.5, 0.5, 0.0]]])\n",
        "        self.rewards = np.array([[1.0, 2.0], [0.0, 0.0], [5.0, -1.0]])\n",
        "\n",
        "class QLearning:\n",
        "    def __init__(self, env, alpha=0.1, epsilon=0.1, discount_factor=0.9):\n",
        "        self.env = env\n",
        "        self.Q = np.zeros((env.num_states, env.num_actions))\n",
        "        self.alpha = alpha\n",
        "        self.epsilon = epsilon\n",
        "        self.discount_factor = discount_factor\n",
        "\n",
        "    def choose_action(self, state):\n",
        "        if np.random.rand() < self.epsilon:\n",
        "            return np.random.choice(self.env.num_actions)\n",
        "        else:\n",
        "            return np.argmax(self.Q[state])\n",
        "\n",
        "    def update(self, state, action, reward, next_state):\n",
        "        next_action = np.argmax(self.Q[next_state])\n",
        "        td_target = reward + self.discount_factor * self.Q[next_state, next_action]\n",
        "        td_error = td_target - self.Q[state, action]\n",
        "        self.Q[state, action] += self.alpha * td_error\n",
        "\n",
        "# Example usage of Q-Learning\n",
        "env = Environment()\n",
        "q_learning = QLearning(env)\n",
        "num_episodes = 1000\n",
        "for _ in range(num_episodes):\n",
        "    state = np.random.randint(env.num_states)\n",
        "    while True:\n",
        "        action = q_learning.choose_action(state)\n",
        "        next_state = np.random.choice(env.num_states, p=env.transition_probs[state, action])\n",
        "        reward = env.rewards[state, action]\n",
        "        q_learning.update(state, action, reward, next_state)\n",
        "        if next_state == 0:\n",
        "            break\n",
        "        state = next_state\n",
        "print(\"Q-values after Q-Learning:\")\n",
        "print(np.round(q_learning.Q, 1))  # Output with only 1 decimal place"
      ]
    }
  ]
}