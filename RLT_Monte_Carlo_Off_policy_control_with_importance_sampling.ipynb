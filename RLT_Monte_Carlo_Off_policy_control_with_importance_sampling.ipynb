{
  "nbformat": 4,
  "nbformat_minor": 0,
  "metadata": {
    "colab": {
      "provenance": [],
      "authorship_tag": "ABX9TyN32q2A8cv5DMFRzqUbZkku",
      "include_colab_link": true
    },
    "kernelspec": {
      "name": "python3",
      "display_name": "Python 3"
    },
    "language_info": {
      "name": "python"
    }
  },
  "cells": [
    {
      "cell_type": "markdown",
      "metadata": {
        "id": "view-in-github",
        "colab_type": "text"
      },
      "source": [
        "<a href=\"https://colab.research.google.com/github/MD03/RLT/blob/main/RLT_Monte_Carlo_Off_policy_control_with_importance_sampling.ipynb\" target=\"_parent\"><img src=\"https://colab.research.google.com/assets/colab-badge.svg\" alt=\"Open In Colab\"/></a>"
      ]
    },
    {
      "cell_type": "code",
      "source": [
        "#Monte Carlo Off policy control with importance sampling\n",
        "import numpy as np\n",
        "\n",
        "class Environment:\n",
        "    def __init__(self):\n",
        "        self.num_states = 3\n",
        "        self.num_actions = 2\n",
        "        self.transition_probs = np.array([[[0.5, 0.5, 0.0], [1.0, 0.0, 0.0]],\n",
        "                                          [[0.0, 0.0, 1.0], [0.0, 0.0, 1.0]],\n",
        "                                          [[0.0, 1.0, 0.0], [0.5, 0.5, 0.0]]])\n",
        "        self.rewards = np.array([[1.0, 2.0], [0.0, 0.0], [5.0, -1.0]])\n",
        "\n",
        "class MonteCarloOffPolicyControl:\n",
        "    def __init__(self, env):\n",
        "        self.env = env\n",
        "        self.Q = np.zeros((env.num_states, env.num_actions))\n",
        "        self.C = np.zeros((env.num_states, env.num_actions))\n",
        "\n",
        "    def update(self, episodes, behavior_policy, target_policy, discount_factor=0.9):\n",
        "        for episode in episodes:\n",
        "            G = 0\n",
        "            W = 1\n",
        "            for i, (state, action, reward) in enumerate(episode[::-1]):\n",
        "                G = discount_factor * G + reward\n",
        "                self.C[state, action] += W\n",
        "                self.Q[state, action] += (W / self.C[state, action]) * (G - self.Q[state, action])\n",
        "                if action != np.argmax(target_policy[tuple(state)]):\n",
        "                    break\n",
        "                    W *= target_policy[tuple(state)][action] / behavior_policy[tuple(state)][action]\n",
        "env = Environment()\n",
        "off_policy_control = MonteCarloOffPolicyControl(env)\n",
        "behavior_policy = np.ones((env.num_states, env.num_actions)) / env.num_actions\n",
        "target_policy = np.zeros((env.num_states, env.num_actions))\n",
        "target_policy[0] = [0.8, 0.2]\n",
        "target_policy[1] = [0.2, 0.8]\n",
        "target_policy[2] = [0.5, 0.5]\n",
        "episodes = [[((0, 0), 1, 1)], [((1, 1), 0, 0)], [((2, 0), 1, 2)]]\n",
        "off_policy_control.update(episodes, behavior_policy, target_policy)\n",
        "print(\"Q-values after Monte Carlo Off-Policy Control:\")\n",
        "print(off_policy_control.Q)"
      ],
      "metadata": {
        "colab": {
          "base_uri": "https://localhost:8080/"
        },
        "id": "h8zn1kFpQ0VI",
        "outputId": "120f2ff6-f6fb-47c1-f7b3-15a5c9b2b7de"
      },
      "execution_count": null,
      "outputs": [
        {
          "output_type": "stream",
          "name": "stdout",
          "text": [
            "Q-values after Monte Carlo Off-Policy Control:\n",
            "[[0.  1.5]\n",
            " [0.  0. ]\n",
            " [0.  2. ]]\n"
          ]
        }
      ]
    }
  ]
}