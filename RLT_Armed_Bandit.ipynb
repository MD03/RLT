{
  "nbformat": 4,
  "nbformat_minor": 0,
  "metadata": {
    "colab": {
      "provenance": [],
      "authorship_tag": "ABX9TyPZrHoD39//woIHyGcIFiPu",
      "include_colab_link": true
    },
    "kernelspec": {
      "name": "python3",
      "display_name": "Python 3"
    },
    "language_info": {
      "name": "python"
    }
  },
  "cells": [
    {
      "cell_type": "markdown",
      "metadata": {
        "id": "view-in-github",
        "colab_type": "text"
      },
      "source": [
        "<a href=\"https://colab.research.google.com/github/MD03/RLT/blob/main/RLT_Armed_Bandit.ipynb\" target=\"_parent\"><img src=\"https://colab.research.google.com/assets/colab-badge.svg\" alt=\"Open In Colab\"/></a>"
      ]
    },
    {
      "cell_type": "code",
      "execution_count": 1,
      "metadata": {
        "colab": {
          "base_uri": "https://localhost:8080/"
        },
        "id": "g6EOFD-n1K04",
        "outputId": "63c38bc8-48c0-4708-b83a-eb4f987c0f5a"
      },
      "outputs": [
        {
          "output_type": "stream",
          "name": "stdout",
          "text": [
            "Estimated value of the arm: 1.498107309507626\n",
            "True value of the arm: 1.5\n"
          ]
        }
      ],
      "source": [
        "import numpy as np\n",
        "\n",
        "class SingleArmedBandit:\n",
        "    def __init__(self, true_reward):\n",
        "        self.true_reward = true_reward\n",
        "\n",
        "    def pull_arm(self):\n",
        "        return np.random.normal(self.true_reward, 1)  # Simulate reward for pulling the arm\n",
        "\n",
        "def epsilon_greedy(bandit, epsilon, num_pulls):\n",
        "    estimated_value = 0\n",
        "    total_reward = 0\n",
        "\n",
        "    for _ in range(num_pulls):\n",
        "        if np.random.rand() < epsilon:  # Explore\n",
        "            reward = bandit.pull_arm()\n",
        "        else:  # Exploit\n",
        "            reward = bandit.true_reward\n",
        "\n",
        "        total_reward += reward\n",
        "        estimated_value = total_reward / (num_pulls + 1)  # Update the estimated value\n",
        "\n",
        "    return estimated_value\n",
        "\n",
        "# Example usage\n",
        "true_reward = 1.5\n",
        "bandit = SingleArmedBandit(true_reward)\n",
        "epsilon = 0.1  # Exploration rate\n",
        "num_pulls = 1000\n",
        "estimated_value = epsilon_greedy(bandit, epsilon, num_pulls)\n",
        "print(\"Estimated value of the arm:\", estimated_value)\n",
        "print(\"True value of the arm:\", true_reward)"
      ]
    }
  ]
}